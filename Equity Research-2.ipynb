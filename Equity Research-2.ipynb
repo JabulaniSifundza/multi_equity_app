{
 "cells": [
  {
   "cell_type": "code",
   "execution_count": 2,
   "id": "b9a57f94",
   "metadata": {},
   "outputs": [],
   "source": [
    "import requests\n",
    "from transformers import pipeline\n",
    "from bs4 import BeautifulSoup\n",
    "import matplotlib.pyplot as plt\n",
    "import pandas as pd"
   ]
  },
  {
   "cell_type": "code",
   "execution_count": 2,
   "id": "bed82452",
   "metadata": {},
   "outputs": [],
   "source": [
    "# Using Apple ticker as an example.\n",
    "# Change the ticker symbol here to run for other companies\n",
    "research_tickers = ['AAPL']"
   ]
  },
  {
   "cell_type": "markdown",
   "id": "b09d7b15",
   "metadata": {},
   "source": [
    "# Scraping news articles from Yahoo Finance"
   ]
  },
  {
   "cell_type": "code",
   "execution_count": 3,
   "id": "792a5775",
   "metadata": {},
   "outputs": [],
   "source": [
    "# Web scraping company news From Yahoo Finance\n",
    "def get_news(ticker):\n",
    "    news_source = \"https://www.google.com/search?q=yahoo+finance+{}&tbm=nws\".format(ticker)\n",
    "    r = requests.get(news_source)\n",
    "    soup = BeautifulSoup(r.text, 'html.parser')\n",
    "    linktags = soup.find_all('a')\n",
    "    hrefs = [link['href'] for link in linktags]\n",
    "    return hrefs"
   ]
  },
  {
   "cell_type": "markdown",
   "id": "2165c651",
   "metadata": {},
   "source": [
    "# Getting article links in their raw format"
   ]
  },
  {
   "cell_type": "code",
   "execution_count": 4,
   "id": "ce681a0c",
   "metadata": {},
   "outputs": [
    {
     "name": "stdout",
     "output_type": "stream",
     "text": [
      "{'AAPL': ['/?sa=X&ved=0ahUKEwjWkeGpjbP-AhUhqZUCHZRPAb8QOwgC', '/search?q=yahoo+finance+AAPL&tbm=nws&ie=UTF-8&gbv=1&sei=G2E-ZJaYCKHS1sQPlJ-F-As', '/search?q=yahoo+finance+AAPL&ie=UTF-8&source=lnms&sa=X&ved=0ahUKEwjWkeGpjbP-AhUhqZUCHZRPAb8Q_AUIBSgA', '/search?q=yahoo+finance+AAPL&ie=UTF-8&tbm=isch&source=lnms&sa=X&ved=0ahUKEwjWkeGpjbP-AhUhqZUCHZRPAb8Q_AUIBygC', '/search?q=yahoo+finance+AAPL&ie=UTF-8&tbm=vid&source=lnms&sa=X&ved=0ahUKEwjWkeGpjbP-AhUhqZUCHZRPAb8Q_AUICCgD', '/search?q=yahoo+finance+AAPL&ie=UTF-8&tbm=bks&source=lnms&sa=X&ved=0ahUKEwjWkeGpjbP-AhUhqZUCHZRPAb8Q_AUICSgE', '/advanced_search', '/search?q=yahoo+finance+AAPL&ie=UTF-8&tbm=nws&source=lnt&tbs=qdr:h&sa=X&ved=0ahUKEwjWkeGpjbP-AhUhqZUCHZRPAb8QpwUICw', '/search?q=yahoo+finance+AAPL&ie=UTF-8&tbm=nws&source=lnt&tbs=qdr:d&sa=X&ved=0ahUKEwjWkeGpjbP-AhUhqZUCHZRPAb8QpwUIDA', '/search?q=yahoo+finance+AAPL&ie=UTF-8&tbm=nws&source=lnt&tbs=qdr:w&sa=X&ved=0ahUKEwjWkeGpjbP-AhUhqZUCHZRPAb8QpwUIDQ', '/search?q=yahoo+finance+AAPL&ie=UTF-8&tbm=nws&source=lnt&tbs=qdr:m&sa=X&ved=0ahUKEwjWkeGpjbP-AhUhqZUCHZRPAb8QpwUIDg', '/search?q=yahoo+finance+AAPL&ie=UTF-8&tbm=nws&source=lnt&tbs=qdr:y&sa=X&ved=0ahUKEwjWkeGpjbP-AhUhqZUCHZRPAb8QpwUIDw', '/search?q=yahoo+finance+AAPL&ie=UTF-8&tbm=nws&source=lnt&tbs=ar:1&sa=X&ved=0ahUKEwjWkeGpjbP-AhUhqZUCHZRPAb8QpwUIEA', '/search?q=yahoo+finance+AAPL&ie=UTF-8&tbm=nws&source=lnt&tbs=sbd:1&sa=X&ved=0ahUKEwjWkeGpjbP-AhUhqZUCHZRPAb8QpwUIEg', '/url?q=https://finance.yahoo.com/news/apple-launches-high-yield-savings-account-with-goldman-in-payments-push-172058282.html&sa=U&ved=2ahUKEwjWkeGpjbP-AhUhqZUCHZRPAb8QxfQBegQIAhAC&usg=AOvVaw2woGuute5K8GuEZlxxjtt8', '/url?q=https://finance.yahoo.com/news/makes-apple-aapl-good-investment-112456785.html&sa=U&ved=2ahUKEwjWkeGpjbP-AhUhqZUCHZRPAb8QxfQBegQICRAC&usg=AOvVaw1xEilcHEbih0pJEkEiBbYd', '/url?q=https://finance.yahoo.com/news/tim-cooks-apple-is-coming-for-zuckerbergs-metaverse-093027794.html&sa=U&ved=2ahUKEwjWkeGpjbP-AhUhqZUCHZRPAb8QxfQBegQIBBAC&usg=AOvVaw2lv4Xhy5fc1s7PWg2q8joJ', '/url?q=https://finance.yahoo.com/news/apples-india-sales-figure-hits-122619670.html&sa=U&ved=2ahUKEwjWkeGpjbP-AhUhqZUCHZRPAb8QxfQBegQIARAC&usg=AOvVaw27z1ENGGeyGYWQaUSFeGgr', '/url?q=https://finance.yahoo.com/news/tim-cook-heads-india-store-183000479.html&sa=U&ved=2ahUKEwjWkeGpjbP-AhUhqZUCHZRPAb8QxfQBegQIABAC&usg=AOvVaw3nLCn8VGmph77o0Lg4Hwh3', '/url?q=https://finance.yahoo.com/news/apple-huge-buybacks-matter-much-101530165.html&sa=U&ved=2ahUKEwjWkeGpjbP-AhUhqZUCHZRPAb8QxfQBegQIAxAC&usg=AOvVaw36FzwhZg_gqNPPhe1oPWMz', '/url?q=https://finance.yahoo.com/news/apple-launches-apple-pay-later-buy-now-pay-later-program-160846944.html&sa=U&ved=2ahUKEwjWkeGpjbP-AhUhqZUCHZRPAb8QxfQBegQICBAC&usg=AOvVaw2WOTAp5-JDebw8XfzgqDZR', '/url?q=https://finance.yahoo.com/news/apple-inc-bets-big-india-042510638.html&sa=U&ved=2ahUKEwjWkeGpjbP-AhUhqZUCHZRPAb8QxfQBegQIBxAC&usg=AOvVaw1kSXTFNW2s1c-wzUgN2wLh', '/url?q=https://finance.yahoo.com/news/the-first-quarter-of-the-year-sent-investors-back-to-the-future-morning-brief-093034637.html&sa=U&ved=2ahUKEwjWkeGpjbP-AhUhqZUCHZRPAb8QxfQBegQIBRAC&usg=AOvVaw3a1IuOvRNvaF6hNlAk8VRt', '/url?q=https://finance.yahoo.com/news/apple-to-spend-1-billion-making-movies-for-theaters-matching-amazon-report-164418637.html&sa=U&ved=2ahUKEwjWkeGpjbP-AhUhqZUCHZRPAb8QxfQBegQIBhAC&usg=AOvVaw3o9cDuTRle4CpLEBxHqL3Y', '/search?q=yahoo+finance+AAPL&ie=UTF-8&tbm=nws&ei=G2E-ZJaYCKHS1sQPlJ-F-As&start=10&sa=N', '/url?q=https://support.google.com/websearch%3Fp%3Dws_settings_location%26hl%3Den&sa=U&ved=0ahUKEwjWkeGpjbP-AhUhqZUCHZRPAb8Qty4IUQ&usg=AOvVaw1NcWQxht3D-l7GxXi2pJDa', '/url?q=https://accounts.google.com/ServiceLogin%3Fcontinue%3Dhttps://www.google.com/search%253Fq%253Dyahoo%252Bfinance%252BAAPL%2526tbm%253Dnws%26hl%3Den&sa=U&ved=0ahUKEwjWkeGpjbP-AhUhqZUCHZRPAb8Qxs8CCFI&usg=AOvVaw3sFtRZfwOj-txd7zQsS-__', 'https://www.google.com/preferences?hl=en&fg=1&sa=X&ved=0ahUKEwjWkeGpjbP-AhUhqZUCHZRPAb8Q5fUCCFM', 'https://policies.google.com/privacy?hl=en&fg=1', 'https://policies.google.com/terms?hl=en&fg=1', '/setprefs?hl=en&prev=https://www.google.com/search?q%3Dyahoo%2Bfinance%2BAAPL%26tbm%3Dnws%26pccc%3D1&sig=0_jvhF8ZM1o9COVYcCgMOqwIA4bhM%3D&cs=2&sa=X&ved=0ahUKEwjWkeGpjbP-AhUhqZUCHZRPAb8QjcAJCFQ']}\n"
     ]
    }
   ],
   "source": [
    "# Article links in their raw format\n",
    "article_links = {ticker:get_news(ticker) for ticker in research_tickers}\n",
    "print(article_links)"
   ]
  },
  {
   "cell_type": "code",
   "execution_count": 53,
   "id": "11a091fe",
   "metadata": {},
   "outputs": [],
   "source": [
    "import re"
   ]
  },
  {
   "cell_type": "code",
   "execution_count": 54,
   "id": "26ee9fea",
   "metadata": {},
   "outputs": [
    {
     "name": "stdout",
     "output_type": "stream",
     "text": [
      "https://finance.yahoo.com/news/apple-huge-buybacks-matter-much-101530165.html\n",
      "https://finance.yahoo.com/news/tim-cooks-apple-is-coming-for-zuckerbergs-metaverse-093027794.html\n",
      "https://finance.yahoo.com/news/tech-stocks-rally-as-investors-ask-when-do-things-start-looking-good-again-190001472.html\n",
      "https://finance.yahoo.com/news/apple-40-plunge-pc-shipments-043700361.html\n",
      "https://finance.yahoo.com/news/apple-launches-apple-pay-later-buy-now-pay-later-program-160846944.html\n",
      "https://finance.yahoo.com/news/apples-india-sales-figure-hits-122619670.html\n",
      "https://finance.yahoo.com/news/makes-apple-aapl-good-investment-112456785.html\n",
      "https://finance.yahoo.com/news/the-first-quarter-of-the-year-sent-investors-back-to-the-future-morning-brief-093034637.html\n",
      "https://finance.yahoo.com/news/apple-ceo-cook-meet-indian-113543537.html\n",
      "https://www.google.com/search?q%3Dyahoo%2Bfinance%2BAAPL%26tbm%3Dnws%26pccc%3D1\n",
      "https://finance.yahoo.com/news/apple-launches-high-yield-savings-account-with-goldman-in-payments-push-172058282.html\n"
     ]
    }
   ],
   "source": [
    "# Cleaning up and Formatting article URLS\n",
    "unwanted_string_list = ['maps', 'policies', 'preferences', 'accounts', 'support']\n",
    "def remove_unwanted_strings(urls, unwanted_string):\n",
    "    new_urls = []\n",
    "    for url in urls:\n",
    "        if 'https://' in url and not any(exclude_word in url for exclude_word in unwanted_string):\n",
    "            res = re.findall(r'(https?://\\S+)', url)[0].split('&')[0]\n",
    "            new_urls.append(res)\n",
    "    return list(set(new_urls))\n",
    "\n",
    "cleaned_urls = {ticker:remove_unwanted_strings(article_links[ticker], unwanted_string_list) for ticker in research_tickers}\n",
    "# print(cleaned_urls)\n",
    "cleanArr = [cleaned_urls]\n",
    "for link in cleanArr:\n",
    "    values = link.values()\n",
    "    # print(values)\n",
    "    for val in values:\n",
    "        urlText = val\n",
    "        for text in urlText:\n",
    "            print(text)"
   ]
  },
  {
   "cell_type": "code",
   "execution_count": 55,
   "id": "86526970",
   "metadata": {},
   "outputs": [],
   "source": [
    "# Getting the full news article from each Link\n",
    "def scrape_and_read_articles(URLs):\n",
    "    NEWS_ARTICLES = []\n",
    "    for url in URLs:\n",
    "        r = requests.get(url)\n",
    "        soup = BeautifulSoup(r.text, 'html.parser')\n",
    "        paragraphs = soup.find_all('p')\n",
    "        paragraph_text = [paragraph.text for paragraph in paragraphs]\n",
    "        words = ' '.join(paragraph_text).split(' ')[:350]\n",
    "        full_article = ' '.join(words)\n",
    "        NEWS_ARTICLES.append(full_article)\n",
    "    return NEWS_ARTICLES"
   ]
  },
  {
   "cell_type": "code",
   "execution_count": null,
   "id": "abf849ba",
   "metadata": {},
   "outputs": [],
   "source": [
    "articles = {ticker:scrape_and_read_articles(cleaned_urls[ticker]) for ticker in research_tickers}\n",
    "print(articles)"
   ]
  },
  {
   "cell_type": "markdown",
   "id": "5a8f0b9e",
   "metadata": {},
   "source": [
    "# Creating Ticker symbol article summary from news articles"
   ]
  },
  {
   "cell_type": "code",
   "execution_count": null,
   "id": "e3fb0ee1",
   "metadata": {},
   "outputs": [],
   "source": [
    "# Summarizing articles\n",
    "def summarize(articles):\n",
    "    summaries = []\n",
    "    for article in articles:\n",
    "        summary = query({\"inputs\": article})\n",
    "        summaries.append(summary)\n",
    "    return summaries"
   ]
  },
  {
   "cell_type": "code",
   "execution_count": null,
   "id": "250b285d",
   "metadata": {},
   "outputs": [],
   "source": [
    "# Creating an Object for each summary\n",
    "ticker_summary = {ticker:summarize(articles[ticker]) for ticker in research_tickers}\n",
    "ticker_summary['AAPL']"
   ]
  },
  {
   "cell_type": "code",
   "execution_count": null,
   "id": "ad2e4dd6",
   "metadata": {
    "scrolled": true
   },
   "outputs": [],
   "source": [
    "# Importing the sentiment analysis model the Hugging Face BERT Financial model\n",
    "from transformers import BertTokenizer, BertForSequenceClassification\n",
    "from transformers import pipeline\n",
    "model = BertForSequenceClassification.from_pretrained(\"ahmedrachid/FinancialBERT-Sentiment-Analysis\",num_labels=3)\n",
    "tokenizer = BertTokenizer.from_pretrained(\"ahmedrachid/FinancialBERT-Sentiment-Analysis\")\n",
    "sentiment = pipeline('sentiment-analysis', model=model, tokenizer=tokenizer)"
   ]
  },
  {
   "cell_type": "markdown",
   "id": "f9c5f605",
   "metadata": {},
   "source": [
    "## Creating sentiment analysis pipeline, getting scores and lables"
   ]
  },
  {
   "cell_type": "code",
   "execution_count": null,
   "id": "7a14f2a4",
   "metadata": {},
   "outputs": [],
   "source": [
    "# Getting sentiment scores and labels\n",
    "def sent_query(payload):\n",
    "    response = requests.post(SENTI_MODEL_URL, headers=headers, json=payload)\n",
    "    return response.json()\n",
    "\n",
    "def get_sentiment(summaries):\n",
    "    sentiments = []\n",
    "    for summary in summaries:\n",
    "        score = sentiment(summary[0]['summary_text'])\n",
    "        score = sent_query(summary[0]['summary_text'])\n",
    "        sentiments.append(score[0][0])\n",
    "        # sentiments.append(score[0])\n",
    "    return sentiments"
   ]
  },
  {
   "cell_type": "code",
   "execution_count": null,
   "id": "882ab93e",
   "metadata": {},
   "outputs": [],
   "source": [
    "ticker_score = {ticker:get_sentiment(ticker_summary[ticker]) for ticker in research_tickers}\n",
    "ticker_score"
   ]
  },
  {
   "cell_type": "code",
   "execution_count": null,
   "id": "00641aae",
   "metadata": {},
   "outputs": [],
   "source": [
    "def create_output_list(ticker_summary, scores, article_urls):\n",
    "    output = []\n",
    "    for ticker in research_tickers:\n",
    "        for counter in range(len(ticker_summary[ticker])):\n",
    "            desired_output = [\n",
    "                ticker,\n",
    "                ticker_summary[ticker][counter][0]['summary_text'],\n",
    "                scores[ticker][counter]['label'],\n",
    "                scores[ticker][counter]['score'],\n",
    "                article_urls[ticker][counter]\n",
    "            ]\n",
    "            output.append(desired_output)\n",
    "    return output"
   ]
  },
  {
   "cell_type": "code",
   "execution_count": null,
   "id": "825b16d3",
   "metadata": {},
   "outputs": [],
   "source": [
    "full_summary = create_output_list(ticker_summary, ticker_score, cleaned_urls)\n",
    "full_summary"
   ]
  },
  {
   "cell_type": "code",
   "execution_count": null,
   "id": "b0d45dc2",
   "metadata": {},
   "outputs": [],
   "source": [
    "for summary in full_summary:\n",
    "    print(f\"{summary[1]} {summary[2]} {summary[3]} {summary[4]}\")"
   ]
  },
  {
   "cell_type": "code",
   "execution_count": null,
   "id": "488bbef0",
   "metadata": {},
   "outputs": [],
   "source": [
    "full_summary.insert(0, ['Ticker Symbol', 'Article Summary', 'Sentiment/Label', 'Confidence', 'Full article URL'])\n",
    "full_summary"
   ]
  },
  {
   "cell_type": "code",
   "execution_count": null,
   "id": "846a59b4",
   "metadata": {},
   "outputs": [],
   "source": [
    "# ADD OTHER METRICS AND THE CREATE PDF WITH FULL EQUITY RESEARCH REPORT\n",
    "!pip install numpy\n",
    "!pip install matplotlib\n",
    "!pip install yahooquery"
   ]
  },
  {
   "cell_type": "code",
   "execution_count": 6,
   "id": "04dcae62",
   "metadata": {},
   "outputs": [],
   "source": [
    "import numpy as np\n",
    "from yahooquery import Ticker\n",
    "import pandas as pd\n",
    "import matplotlib.pyplot as plt"
   ]
  },
  {
   "cell_type": "markdown",
   "id": "fc259d1b",
   "metadata": {},
   "source": [
    "# Getting company metrics and market return comparison"
   ]
  },
  {
   "cell_type": "code",
   "execution_count": 7,
   "id": "0caf5c0f",
   "metadata": {},
   "outputs": [
    {
     "name": "stdout",
     "output_type": "stream",
     "text": [
      "                         open        high         low       close     volume  \\\n",
      "symbol date                                                                    \n",
      "AAPL   2018-02-01   41.792500   42.154999   41.689999   41.945000  188923200   \n",
      "       2018-02-02   41.500000   41.700001   40.025002   40.125000  346375200   \n",
      "       2018-02-05   39.775002   40.970001   39.000000   39.122501  290954000   \n",
      "       2018-02-06   38.707500   40.930000   38.500000   40.757500  272975200   \n",
      "       2018-02-07   40.772499   40.849998   39.767502   39.884998  206434400   \n",
      "...                       ...         ...         ...         ...        ...   \n",
      "       2023-01-25  140.889999  142.429993  138.809998  141.860001   65799300   \n",
      "       2023-01-26  143.169998  144.250000  141.899994  143.960007   54105100   \n",
      "       2023-01-27  143.160004  147.229996  143.080002  145.929993   70555800   \n",
      "       2023-01-30  144.960007  145.550003  142.850006  143.000000   64015300   \n",
      "       2023-01-31  142.699997  144.339996  142.279999  144.289993   65874500   \n",
      "\n",
      "                     adjclose  dividends  splits  log_returns  \n",
      "symbol date                                                    \n",
      "AAPL   2018-02-01   39.824684        0.0     0.0     0.002088  \n",
      "       2018-02-02   38.096684        0.0     0.0    -0.044360  \n",
      "       2018-02-05   37.144863        0.0     0.0    -0.025302  \n",
      "       2018-02-06   38.697208        0.0     0.0     0.040942  \n",
      "       2018-02-07   37.868816        0.0     0.0    -0.021639  \n",
      "...                       ...        ...     ...          ...  \n",
      "       2023-01-25  141.643738        0.0     0.0    -0.004712  \n",
      "       2023-01-26  143.740540        0.0     0.0     0.014695  \n",
      "       2023-01-27  145.707520        0.0     0.0     0.013591  \n",
      "       2023-01-30  142.781998        0.0     0.0    -0.020282  \n",
      "       2023-01-31  144.070023        0.0     0.0     0.008980  \n",
      "\n",
      "[1258 rows x 9 columns]\n"
     ]
    }
   ],
   "source": [
    "# Getting Financial Data on the given Ticker symbol\n",
    "company_ticker = Ticker('AAPL')\n",
    "market_ticker = Ticker('^GSPC')\n",
    "stock_priceDF = company_ticker.history(period='1d', start='2018-01-31', end='2023-02-01')\n",
    "market_DF = market_ticker.history(period='1d', start='2018-01-31', end='2023-02-01')\n",
    "stock_priceDF['log_returns'] = np.log(stock_priceDF['adjclose']/stock_priceDF['adjclose'].shift(1))\n",
    "market_DF['log_returns'] = np.log(market_DF['adjclose']/market_DF['adjclose'].shift(1))\n",
    "stock_priceDF = stock_priceDF.dropna()\n",
    "market_DF = market_DF.dropna()\n",
    "market_DF\n",
    "print(stock_priceDF)"
   ]
  },
  {
   "cell_type": "code",
   "execution_count": 8,
   "id": "d7b9cc75",
   "metadata": {},
   "outputs": [],
   "source": [
    "combined = pd.concat([stock_priceDF, market_DF], axis=0, join='inner')"
   ]
  },
  {
   "cell_type": "code",
   "execution_count": 9,
   "id": "412c1da3",
   "metadata": {},
   "outputs": [],
   "source": [
    "# Calculating the Covariance\n",
    "covariance = (np.cov(stock_priceDF['log_returns'], market_DF['log_returns'])) * 250\n",
    "covariance_with_market = covariance[0, 1]"
   ]
  },
  {
   "cell_type": "code",
   "execution_count": 10,
   "id": "924159b4",
   "metadata": {},
   "outputs": [],
   "source": [
    "market_variance = market_DF['log_returns'].var() * 250"
   ]
  },
  {
   "cell_type": "code",
   "execution_count": 11,
   "id": "7a8e58c2",
   "metadata": {},
   "outputs": [],
   "source": [
    "beta_final = covariance_with_market / market_variance"
   ]
  },
  {
   "cell_type": "code",
   "execution_count": 12,
   "id": "1359e64e",
   "metadata": {},
   "outputs": [],
   "source": [
    "# Calating the company's CAPM/Expected Return\n",
    "company_capm = 0.025 + beta_final * 0.05"
   ]
  },
  {
   "cell_type": "code",
   "execution_count": 13,
   "id": "3c91c350",
   "metadata": {},
   "outputs": [],
   "source": [
    "income_state = company_ticker.income_statement()"
   ]
  },
  {
   "cell_type": "code",
   "execution_count": 14,
   "id": "f40e986e",
   "metadata": {},
   "outputs": [],
   "source": [
    "# Functions to clean up cost, profit, liquidity metrcis and separate these values into their own objects\n",
    "def get_costs_(cost_array):\n",
    "    costs = []\n",
    "    for cost in cost_array:\n",
    "        loot = float(cost)\n",
    "        costs.append(loot)\n",
    "    return costs\n",
    "\n",
    "def get_year(income_state_years):\n",
    "    years = []\n",
    "    for year in income_state_years:\n",
    "        str_time = year.strftime('%Y-%m-%d')\n",
    "        years.append(str_time)\n",
    "    return years\n",
    "\n",
    "def get_net(ebit_array):\n",
    "    ebits = []\n",
    "    for earning in ebit_array:\n",
    "        loot = float(earning)\n",
    "        ebits.append(loot)\n",
    "    return ebits\n",
    "\n",
    "def get_ebit(earnings_arr):\n",
    "    ebit = []\n",
    "    for earned in earnings_arr:\n",
    "        amnt = float(earned)\n",
    "        ebit.append(amnt)\n",
    "    return ebit\n",
    "\n",
    "def get_revenue(revenue_arr):\n",
    "    revenues = []\n",
    "    for rev in revenue_arr:\n",
    "        revenue = float(rev)\n",
    "        revenues.append(revenue)\n",
    "    return revenues\n",
    "\n",
    "years = get_year(income_state['asOfDate'])\n",
    "total_expense = get_costs_(income_state['TotalExpenses'])\n",
    "net = get_net(income_state['NetIncome'])\n",
    "ebit = get_ebit(income_state['EBIT'])\n",
    "total_revenues = get_revenue(income_state['TotalRevenue'])"
   ]
  },
  {
   "cell_type": "code",
   "execution_count": 16,
   "id": "97d17d1a",
   "metadata": {},
   "outputs": [
    {
     "name": "stdout",
     "output_type": "stream",
     "text": [
      "$ 55,256,000,000.00\n",
      "$ 57,411,000,000.00\n",
      "$ 94,680,000,000.00\n",
      "$ 99,803,000,000.00\n",
      "$ 95,171,000,000.00\n"
     ]
    }
   ],
   "source": [
    "\n",
    "for profit in net:\n",
    "    print(f\"$ {profit:,.2f}\")"
   ]
  },
  {
   "cell_type": "code",
   "execution_count": 12,
   "id": "cba1b975",
   "metadata": {},
   "outputs": [],
   "source": [
    "total_expense_dict = {year: cost for (year, cost) in zip(years, total_expense)}\n",
    "net_income_dict = {year: income for (year, income) in zip(years, net)}"
   ]
  },
  {
   "cell_type": "markdown",
   "id": "5b0126cf",
   "metadata": {},
   "source": [
    "# Getting the company's Balance sheet"
   ]
  },
  {
   "cell_type": "code",
   "execution_count": 13,
   "id": "d28d288e",
   "metadata": {},
   "outputs": [],
   "source": [
    "# Getting the company's Balance sheet\n",
    "balance_sheet = company_ticker.balance_sheet()\n",
    "cash_flow_statement = company_ticker.cash_flow(trailing=False)"
   ]
  },
  {
   "cell_type": "code",
   "execution_count": 14,
   "id": "10d95fb8",
   "metadata": {},
   "outputs": [],
   "source": [
    "def get_total_liabilities(liabilities):\n",
    "    total_liabilities = []\n",
    "    for liability in liabilities:\n",
    "        value = float(liability)\n",
    "        total_liabilities.append(value)\n",
    "    return total_liabilities\n",
    "\n",
    "def get_total_assets(assets):\n",
    "    total_assets = []\n",
    "    for asset in assets:\n",
    "        value = float(asset)\n",
    "        total_assets.append(value)\n",
    "    return total_assets\n",
    "\n",
    "def get_total_cash(cash):\n",
    "    total_liquid = []\n",
    "    for liquidity in cash:\n",
    "        value = float(liquidity)\n",
    "        total_liquid.append(value)\n",
    "    return total_liquid\n",
    "\n",
    "def get_current_assets(current_assets):\n",
    "    total_current_assets = []\n",
    "    for current_asset in current_assets:\n",
    "        asset_value = float(current_asset)\n",
    "        total_current_assets.append(asset_value)\n",
    "    return total_current_assets\n",
    "\n",
    "def get_current_liabilities(current_liabilities):\n",
    "    total_current_liabilities = []\n",
    "    for current_liability in current_liabilities:\n",
    "        liability_val = float(current_liability)\n",
    "        total_current_liabilities.append(liability_val)\n",
    "    return total_current_liabilities\n",
    "\n",
    "def ending_cash_balance(ending_cash):\n",
    "    total_ending_cash = []\n",
    "    for ending_cash in ending_cash:\n",
    "        ending_balance = float(ending_cash)\n",
    "        total_ending_cash.append(ending_balance)\n",
    "    return total_ending_cash\n",
    "\n",
    "def get_operating_cash_flow(cash_flow_arr):\n",
    "    operating_flows = []\n",
    "    for cash_flow in cash_flow_arr:\n",
    "        flow_value = float(cash_flow)\n",
    "        operating_flows.append(flow_value)\n",
    "    return operating_flows\n",
    "\n",
    "ending_cash_balance = ending_cash_balance(cash_flow_statement['EndCashPosition'])\n",
    "total_liabilities = get_total_liabilities(balance_sheet['TotalLiabilitiesNetMinorityInterest'])\n",
    "total_assets = get_total_assets(balance_sheet['TotalAssets'])\n",
    "total_cash_equivalents = get_total_cash(balance_sheet['CashAndCashEquivalents'])\n",
    "total_current_assets = get_current_assets(balance_sheet['CurrentAssets'])\n",
    "total_get_current_liabilities = get_current_liabilities(balance_sheet['CurrentLiabilities'])\n",
    "operating_cash_flows = get_operating_cash_flow(cash_flow_statement['OperatingCashFlow'])"
   ]
  },
  {
   "cell_type": "markdown",
   "id": "6113fb20",
   "metadata": {},
   "source": [
    "# Calculating Financial Ratios"
   ]
  },
  {
   "cell_type": "code",
   "execution_count": 15,
   "id": "75b4c4c4",
   "metadata": {},
   "outputs": [
    {
     "name": "stdout",
     "output_type": "stream",
     "text": [
      "{'2019-09-30': 1.540125617208044, '2020-09-30': 1.3636044481554577, '2021-09-30': 1.0745531195957954, '2022-09-30': 0.8793560286267226}\n",
      "{'2019-09-30': 0.2746157613037913, '2020-09-30': 0.3033831282952548, '2021-09-30': 0.48309913489209433, '2022-09-30': 0.6008713457059057}\n",
      "{'2019-09-30': 0.6563782894114532, '2020-09-30': 0.7654660695308941, '2021-09-30': 0.8291135709788733, '2022-09-30': 0.7932810328479952}\n",
      "{'2019-09-30': 21.238094505984456, '2020-09-30': 20.913611278072235, '2021-09-30': 25.88179335569424, '2022-09-30': 25.309640705199733, '2022-12-31': 24.557913179902823}\n"
     ]
    }
   ],
   "source": [
    "# Calculating Ratios\n",
    "# Current ratio - company's ability to pay off its current liabilities \n",
    "current_ratios = {year: current_asset/current_liability for(year, current_asset, current_liability) in zip(years, total_current_assets, total_get_current_liabilities)}\n",
    "# ROCE - Return on Capital Employed\n",
    "roce = {year: year_ebit/(assets - curr_liabilities) for(year, year_ebit, assets, curr_liabilities) in zip(years, ebit, total_assets, total_get_current_liabilities)}\n",
    "# Net Profit Margin\n",
    "net_profit_margin = {year: (net_income/revenue)*100 for(year, net_income, revenue) in zip(years, net, total_revenues)}\n",
    "# Operating Cash Flow ratio\n",
    "operating_cash_flow_ratio = {year: operating_cash/current_liability for(year, operating_cash, current_liability) in zip(years, operating_cash_flows, total_get_current_liabilities)}\n",
    "print(current_ratios)\n",
    "print(roce)\n",
    "print(operating_cash_flow_ratio)\n",
    "print(net_profit_margin)"
   ]
  },
  {
   "cell_type": "code",
   "execution_count": 21,
   "id": "1a92d395",
   "metadata": {},
   "outputs": [
    {
     "data": {
      "image/png": "[encoded data removed]",
      "text/plain": [
       "<Figure size 640x480 with 1 Axes>"
      ]
     },
     "metadata": {},
     "output_type": "display_data"
    }
   ],
   "source": [
    "net_Df = pd.DataFrame(net)\n",
    "plt.plot(net_Df)\n",
    "plt.show()"
   ]
  },
  {
   "cell_type": "code",
   "execution_count": null,
   "id": "bf7c60a3",
   "metadata": {},
   "outputs": [],
   "source": []
  },
  {
   "cell_type": "code",
   "execution_count": 42,
   "id": "a09886d4",
   "metadata": {},
   "outputs": [
    {
     "data": {
      "text/plain": [
       "[['2019-09-30', '2020-09-30', '2021-09-30', '2022-09-30', '2022-12-31']]"
      ]
     },
     "execution_count": 42,
     "metadata": {},
     "output_type": "execute_result"
    }
   ],
   "source": [
    "newArr = []\n",
    "newArr.append(years)\n",
    "newArr"
   ]
  },
  {
   "cell_type": "code",
   "execution_count": 43,
   "id": "0addcb81",
   "metadata": {},
   "outputs": [
    {
     "data": {
      "text/plain": [
       "['2019-09-30', '2020-09-30', '2021-09-30', '2022-09-30', '2022-12-31']"
      ]
     },
     "execution_count": 43,
     "metadata": {},
     "output_type": "execute_result"
    }
   ],
   "source": [
    "newArr[0]"
   ]
  },
  {
   "cell_type": "code",
   "execution_count": 49,
   "id": "635dc45f",
   "metadata": {},
   "outputs": [],
   "source": [
    "capmArr = [company_capm]"
   ]
  },
  {
   "cell_type": "code",
   "execution_count": 50,
   "id": "970b4cde",
   "metadata": {},
   "outputs": [
    {
     "data": {
      "text/plain": [
       "9.0"
      ]
     },
     "execution_count": 50,
     "metadata": {},
     "output_type": "execute_result"
    }
   ],
   "source": [
    "round(capmArr[0], 2)*100"
   ]
  },
  {
   "cell_type": "code",
   "execution_count": null,
   "id": "85dd1140",
   "metadata": {},
   "outputs": [],
   "source": []
  }
 ],
 "metadata": {
  "kernelspec": {
   "display_name": "Python 3.10 (pytorch)",
   "language": "python",
   "name": "torch"
  },
  "language_info": {
   "codemirror_mode": {
    "name": "ipython",
    "version": 3
   },
   "file_extension": ".py",
   "mimetype": "text/x-python",
   "name": "python",
   "nbconvert_exporter": "python",
   "pygments_lexer": "ipython3",
   "version": "3.10.9 | packaged by conda-forge | (main, Feb  2 2023, 20:26:08) [Clang 14.0.6 ]"
  }
 },
 "nbformat": 4,
 "nbformat_minor": 5
}
